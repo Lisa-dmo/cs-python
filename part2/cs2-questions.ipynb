{
  "nbformat": 4,
  "nbformat_minor": 0,
  "metadata": {
    "colab": {
      "name": "Demystifying Comp Class 2 Questions.ipynb",
      "provenance": [],
      "collapsed_sections": []
    },
    "kernelspec": {
      "name": "python3",
      "display_name": "Python 3"
    }
  },
  "cells": [
    {
      "cell_type": "markdown",
      "metadata": {
        "id": "37nZbUCQK6zA"
      },
      "source": [
        "# Welcome to Class 2 exercises.#\n",
        "\n",
        "**Answer the following questions using Python programming language and the slides of class 2.**"
      ]
    },
    {
      "cell_type": "markdown",
      "metadata": {
        "id": "SWQLJ4iqm5Rw"
      },
      "source": [
        "**Question 1.1:** Study and run the following program. Try it using the following input values:\r\n",
        "\r\n",
        "\r\n",
        "* 65\r\n",
        "* 20\r\n"
      ]
    },
    {
      "cell_type": "code",
      "metadata": {
        "id": "RH4nJciDm5iZ",
        "colab": {
          "base_uri": "https://localhost:8080/"
        },
        "outputId": "bb4aeb01-ca0c-491e-b8ce-3641c4edb84f"
      },
      "source": [
        "age = int(input(\"What is your age? \"))\n",
        "\n",
        "senior = False # Let's assume that a person is not a Senior\n",
        "ticket = 20 # So, the standard ticket cost is 20 GBP\n",
        "\n",
        "# First part of the program to set the senior boolean variable\n",
        "if(age > 60):\n",
        "  senior = True\n",
        "\n",
        "# More code could go here...\n",
        "\n",
        "# Second part of the program to check ticket cost for Seniors\n",
        "if(senior==True):\n",
        "  ticket = 10\n",
        "\n",
        "print(\"Ticket cost is:\",ticket)"
      ],
      "execution_count": null,
      "outputs": [
        {
          "output_type": "stream",
          "text": [
            "What is your age? 20\n",
            "Ticket cost is: 20\n"
          ],
          "name": "stdout"
        }
      ]
    },
    {
      "cell_type": "markdown",
      "metadata": {
        "id": "A8KwpJ8QySNH"
      },
      "source": [
        "<img src='https://drive.google.com/uc?id=1WQphg5JK-cVYpbiVfPtOjz9yONtQKSnY' width=\"50\" height=\"50\"> \n",
        "> You can think the above program as multiple small code parts that we created to control the execution flow. We use **Booleans** to evaluate any expression in Python, and get one of two answers, True or False. Then we can check this condition, for example using an **if** statement in different code parts."
      ]
    },
    {
      "cell_type": "markdown",
      "metadata": {
        "id": "H3ANuhW9LAa5"
      },
      "source": [
        "**Question 1.2:** Create a program to decide if you need to water the tomatoes in a greenhouse using the following specification.\n",
        "\n",
        "*   User to enter the current temperature\n",
        "*   The tomatoes are watered when the cover is on\n",
        "*   The cover is on, if temperature is less than 16\n",
        "\n",
        "*Hint: Use boolean variables (True or False)*"
      ]
    },
    {
      "cell_type": "markdown",
      "metadata": {
        "id": "rzafqedQq2z3"
      },
      "source": [
        "<img src='https://drive.google.com/uc?id=1TILfsLPhdXLqyGIjILDLcNtvk-wACxyX' width=\"50\" height=\"50\"> \n",
        "> This is a challenging task, so take your time."
      ]
    },
    {
      "cell_type": "code",
      "metadata": {
        "id": "SS-I9I49K5wK",
        "colab": {
          "base_uri": "https://localhost:8080/"
        },
        "outputId": "4b548006-bb42-4315-b201-032d71fda72f"
      },
      "source": [
        "# Provide your solution here\n",
        "\n"
      ],
      "execution_count": null,
      "outputs": [
        {
          "output_type": "stream",
          "text": [
            "What is the temperature? 15\n",
            "Water:  True\n"
          ],
          "name": "stdout"
        }
      ]
    },
    {
      "cell_type": "markdown",
      "metadata": {
        "id": "fXFVTrIeL1KD"
      },
      "source": [
        "**Question 2:** Create a program to print a list of your favorite books.\n",
        "\n",
        "As an example, this is a list of my favorite books.\n",
        "\n",
        "*fav_books = [\"The Hobbit\", \"The Parrot's Theorem\", \"Moby Dick\" ]*\n",
        "\n",
        "Print the items of the list."
      ]
    },
    {
      "cell_type": "code",
      "metadata": {
        "id": "yxkwT8TkL2nV",
        "colab": {
          "base_uri": "https://localhost:8080/"
        },
        "outputId": "a60bc6d7-7a70-43c9-da6d-44ce2106a854"
      },
      "source": [
        "# Provide your solution here\n",
        "\n"
      ],
      "execution_count": null,
      "outputs": [
        {
          "output_type": "stream",
          "text": [
            "The Hobbit\n",
            "The Parrot's Theorem\n",
            "Moby Dick\n"
          ],
          "name": "stdout"
        }
      ]
    },
    {
      "cell_type": "markdown",
      "metadata": {
        "id": "2zxV6nUrLD_Y"
      },
      "source": [
        "**Question 3:** Create a list of numbers: 10, 23, 25, 28, 30.\n",
        "\n",
        "Print the first 3 elements of the list using the index values."
      ]
    },
    {
      "cell_type": "markdown",
      "metadata": {
        "id": "rDVs9sxlzp16"
      },
      "source": [
        "<img src='https://drive.google.com/uc?id=1zHRUx7gL2e5LMUMQ1_zPt6V0MI-v5Iv5' width=\"50\" height=\"50\"> \n",
        "> You can have a look here for slicing a list: https://www.w3schools.com/python/python_lists_access.asp"
      ]
    },
    {
      "cell_type": "code",
      "metadata": {
        "id": "tdZKvEUaMa8k",
        "colab": {
          "base_uri": "https://localhost:8080/"
        },
        "outputId": "44436536-5fda-4a28-da15-6d7bb01653ab"
      },
      "source": [
        "# Provide your solution here\n",
        "\n"
      ],
      "execution_count": null,
      "outputs": [
        {
          "output_type": "stream",
          "text": [
            "[10, 23, 25]\n"
          ],
          "name": "stdout"
        }
      ]
    },
    {
      "cell_type": "markdown",
      "metadata": {
        "id": "be8Fn25VMdin"
      },
      "source": [
        "**Question 4:** Write a program to create the following list of numbers: 10, 23, 25, 28, 30.\n",
        "\n",
        "Print 23, 25 and 28 using the appropriate index values."
      ]
    },
    {
      "cell_type": "code",
      "metadata": {
        "id": "d-ydq-SNM70F",
        "colab": {
          "base_uri": "https://localhost:8080/"
        },
        "outputId": "7cb1cd77-22ff-48ba-ffe7-765bbb145a16"
      },
      "source": [
        "# Provide your solution here\n",
        "\n"
      ],
      "execution_count": null,
      "outputs": [
        {
          "output_type": "stream",
          "text": [
            "[23, 25, 28]\n"
          ],
          "name": "stdout"
        }
      ]
    },
    {
      "cell_type": "markdown",
      "metadata": {
        "id": "eYukGIUmNOHp"
      },
      "source": [
        "**Question 5:**  Write a program to create the following list of numbers: 10, 23, 25, 28, 30. Print the last two elements."
      ]
    },
    {
      "cell_type": "code",
      "metadata": {
        "id": "j_YzwhZKNbq8",
        "colab": {
          "base_uri": "https://localhost:8080/"
        },
        "outputId": "ee75a041-ba0c-4fc9-c2d6-4f707fa5c619"
      },
      "source": [
        "# Provide your solution here\n",
        "\n"
      ],
      "execution_count": null,
      "outputs": [
        {
          "output_type": "stream",
          "text": [
            "[28, 30]\n"
          ],
          "name": "stdout"
        }
      ]
    },
    {
      "cell_type": "markdown",
      "metadata": {
        "id": "-UM1UBy3Ns8b"
      },
      "source": [
        "**Question 6.1:** Write a program to create the following list of numbers: 10, 23, 25, 28, 30. Print the first and the last elements."
      ]
    },
    {
      "cell_type": "code",
      "metadata": {
        "id": "GaLLJVpZOEqA",
        "colab": {
          "base_uri": "https://localhost:8080/"
        },
        "outputId": "bfd1a7a1-4571-4e73-b252-46fcb4a2e6f0"
      },
      "source": [
        "# Provide your solution here\n",
        "\n"
      ],
      "execution_count": null,
      "outputs": [
        {
          "output_type": "stream",
          "text": [
            "10 30\n"
          ],
          "name": "stdout"
        }
      ]
    },
    {
      "cell_type": "markdown",
      "metadata": {
        "id": "kcixHXyIocL9"
      },
      "source": [
        "**Question 6.2:** Study and run the following code.\n",
        "\n",
        "\n",
        "<img src='https://drive.google.com/uc?id=1zHRUx7gL2e5LMUMQ1_zPt6V0MI-v5Iv5' width=\"50\" height=\"50\"> \n",
        "> Note that in Python we can treat a text (also known as String) the same way we treat a list."
      ]
    },
    {
      "cell_type": "code",
      "metadata": {
        "colab": {
          "base_uri": "https://localhost:8080/"
        },
        "id": "YxYjwDidpaWL",
        "outputId": "1a5f385b-0069-426c-d2b6-91c35457755a"
      },
      "source": [
        "atext = \"Stelios\" # A text is actually a list of characters\n",
        "print(atext)      # Yet, we represent it as text\n",
        "print(atext[0:2])\n",
        "\n",
        "# if you want to print it as a list, you just need to convert it\n",
        "\n",
        "alist = list(atext) # Make the text a list of characters\n",
        "print(alist)        # Now, we can print it as a list\n",
        "print(alist[0:2])"
      ],
      "execution_count": null,
      "outputs": [
        {
          "output_type": "stream",
          "text": [
            "Stelios\n",
            "St\n",
            "['S', 't', 'e', 'l', 'i', 'o', 's']\n",
            "['S', 't']\n"
          ],
          "name": "stdout"
        }
      ]
    },
    {
      "cell_type": "markdown",
      "metadata": {
        "id": "AkEu_auFxUjM"
      },
      "source": [
        "<img src='https://drive.google.com/uc?id=1WQphg5JK-cVYpbiVfPtOjz9yONtQKSnY' width=\"50\" height=\"50\"> \n",
        "> There is no need to transform the text to list, as Python will treat it the same way. "
      ]
    },
    {
      "cell_type": "markdown",
      "metadata": {
        "id": "8xSU79DDpZ6n"
      },
      "source": [
        "**Question 6.3:** Write a program to print the first and the last letter of the name *John*."
      ]
    },
    {
      "cell_type": "code",
      "metadata": {
        "id": "KdjrW3DsocVD",
        "colab": {
          "base_uri": "https://localhost:8080/"
        },
        "outputId": "d312f8d1-361b-4771-de59-b0251450fe05"
      },
      "source": [
        "# Provide your solution here\n",
        "\n"
      ],
      "execution_count": null,
      "outputs": [
        {
          "output_type": "stream",
          "text": [
            "J n\n"
          ],
          "name": "stdout"
        }
      ]
    },
    {
      "cell_type": "markdown",
      "metadata": {
        "id": "pJOOGalwOP7m"
      },
      "source": [
        "**Question 7:** Write a program to search for an item of a list.\n",
        "*  Create following list of names *Juliet, John, Jack, Joy, Jim, Josh, Julia*. \n",
        "*   Prompt the user to enter for a name\n",
        "*   Search the list if the name is matched with the names of the list\n",
        "*   If there is a match, print *Found it*\n",
        "*   In any other case print *Not found*\n",
        "\n",
        "<img src='https://drive.google.com/uc?id=1zHRUx7gL2e5LMUMQ1_zPt6V0MI-v5Iv5' width=\"50\" height=\"50\"> \n",
        "> Review the lecture slides for how to search an item in a list."
      ]
    },
    {
      "cell_type": "code",
      "metadata": {
        "id": "QfPSAHZHOS_-"
      },
      "source": [
        "# Provide your solution here\n",
        "\n"
      ],
      "execution_count": null,
      "outputs": []
    },
    {
      "cell_type": "markdown",
      "metadata": {
        "id": "j-VdHAPoR_it"
      },
      "source": [
        "**Question 8:** Write a program as follows.\n",
        "\n",
        "*   Create the following list of names *Juliet, John, Jack, Joy, Jim, Josh, Julia*.\n",
        "*   Prompt the user to enter a name\n",
        "*   Search the list if the name exists\n",
        "*   If the name exists, print *Found it*\n",
        "*   In any other case print *Not found*\n",
        "*   Print the result only once at the end of the program\n",
        "\n",
        "<img src='https://drive.google.com/uc?id=1zHRUx7gL2e5LMUMQ1_zPt6V0MI-v5Iv5' width=\"50\" height=\"50\"> \n",
        "> Review the lecture slides for how to use the boolean variables. It is a good idea to use booleans when we need to keep memory if we entered in a conditional or not."
      ]
    },
    {
      "cell_type": "code",
      "metadata": {
        "id": "MPGZUowER_p7",
        "colab": {
          "base_uri": "https://localhost:8080/"
        },
        "outputId": "af30c26e-f1da-41ca-f290-dbe19816d543"
      },
      "source": [
        "# Provide your solution here\n",
        "\n"
      ],
      "execution_count": null,
      "outputs": [
        {
          "output_type": "stream",
          "text": [
            "Enter a name to search: Jack\n",
            "Found it\n"
          ],
          "name": "stdout"
        }
      ]
    },
    {
      "cell_type": "markdown",
      "metadata": {
        "id": "rpbPHa0apW6l"
      },
      "source": [
        "**Question 9.1:** Create a program to ask a user to enter two names (e.g. using two *input* statements one after the other). Then create a list to store these two names. Print the list.\n"
      ]
    },
    {
      "cell_type": "code",
      "metadata": {
        "id": "Ffhz8OVOpXFa",
        "colab": {
          "base_uri": "https://localhost:8080/"
        },
        "outputId": "5e4b8872-52d6-4961-ea81-31ab399fae76"
      },
      "source": [
        "# Provide your solution here\n"
      ],
      "execution_count": null,
      "outputs": [
        {
          "output_type": "stream",
          "text": [
            "Enter the first name: john\n",
            "Enter a second name: mary\n",
            "['john', 'mary']\n"
          ],
          "name": "stdout"
        }
      ]
    },
    {
      "cell_type": "markdown",
      "metadata": {
        "id": "JjGGrHm9RAOU"
      },
      "source": [
        "**Question 9.2:** Create a program to ask a user to enter 5 numbers, one after the other. Then create a list out of these numbers. Print the list.\n",
        "\n",
        "<img src='https://drive.google.com/uc?id=1zHRUx7gL2e5LMUMQ1_zPt6V0MI-v5Iv5' width=\"50\" height=\"50\"> \n",
        "> You can use the *append* method, for more information review the following website.\n",
        "https://www.w3schools.com/python/ref_list_append.asp\n",
        "\n",
        "> What if the user wants to add 100 numbers?"
      ]
    },
    {
      "cell_type": "code",
      "metadata": {
        "id": "1OEu0gpXRAWW",
        "colab": {
          "base_uri": "https://localhost:8080/"
        },
        "outputId": "e2ad1097-5f99-4ab4-f26c-29b6b3f05b7c"
      },
      "source": [
        "# Provide your solution here\n",
        "\n"
      ],
      "execution_count": null,
      "outputs": [
        {
          "output_type": "stream",
          "text": [
            "Enter a number: 2\n",
            "Enter a number: 6\n",
            "Enter a number: 9\n",
            "Enter a number: 34\n",
            "Enter a number: 2\n",
            "[2, 6, 9, 34, 2]\n"
          ],
          "name": "stdout"
        }
      ]
    },
    {
      "cell_type": "markdown",
      "metadata": {
        "id": "FhOq9aDhSadL"
      },
      "source": [
        "**Question 10:** Create a program to store the following numbers 1, 2, 3, ..., 99, 100 in a list.\n",
        "\n",
        "<img src='https://drive.google.com/uc?id=1zHRUx7gL2e5LMUMQ1_zPt6V0MI-v5Iv5' width=\"50\" height=\"50\"> \n",
        "> You can use the *range* method, for more information review the following website.\n",
        "https://www.w3schools.com/python/ref_func_range.asp"
      ]
    },
    {
      "cell_type": "code",
      "metadata": {
        "id": "Kv6bRsU9Salx",
        "colab": {
          "base_uri": "https://localhost:8080/"
        },
        "outputId": "50e7035d-a944-46f8-db5e-60d8e51f5286"
      },
      "source": [
        "# Provide your solution here\n"
      ],
      "execution_count": null,
      "outputs": [
        {
          "output_type": "stream",
          "text": [
            "[1, 2, 3, 4, 5, 6, 7, 8, 9, 10, 11, 12, 13, 14, 15, 16, 17, 18, 19, 20, 21, 22, 23, 24, 25, 26, 27, 28, 29, 30, 31, 32, 33, 34, 35, 36, 37, 38, 39, 40, 41, 42, 43, 44, 45, 46, 47, 48, 49, 50, 51, 52, 53, 54, 55, 56, 57, 58, 59, 60, 61, 62, 63, 64, 65, 66, 67, 68, 69, 70, 71, 72, 73, 74, 75, 76, 77, 78, 79, 80, 81, 82, 83, 84, 85, 86, 87, 88, 89, 90, 91, 92, 93, 94, 95, 96, 97, 98, 99, 100]\n"
          ],
          "name": "stdout"
        }
      ]
    },
    {
      "cell_type": "markdown",
      "metadata": {
        "id": "il1m9gTAqIKt"
      },
      "source": [
        "**Question 11a:** Review the slides code on how to create a counter. \n",
        "\n",
        "What is wrong with the following program?\n"
      ]
    },
    {
      "cell_type": "markdown",
      "metadata": {
        "id": "JhUPkmR7krRm"
      },
      "source": [
        "<img src='https://drive.google.com/uc?id=1_ZxToBYeOddC2pjMt25BhCyf-VgWDC_e' width=\"50\" height=\"50\"> \n",
        "> Find and fix the error. Run the code to make sure that works correctly.\n"
      ]
    },
    {
      "cell_type": "code",
      "metadata": {
        "id": "4EdTnmvBqoHt",
        "colab": {
          "base_uri": "https://localhost:8080/"
        },
        "outputId": "1c260b72-8312-4adc-fa52-f572e2031de6"
      },
      "source": [
        "alist = [1,3,4,6,2,9]\n",
        "\n",
        "for anumber in alist:\n",
        "    counter = counter + 1 # We should use counter, not count\n",
        "print(counter) # We should print the counter, the result variable is not defined"
      ],
      "execution_count": null,
      "outputs": [
        {
          "output_type": "stream",
          "text": [
            "6\n"
          ],
          "name": "stdout"
        }
      ]
    },
    {
      "cell_type": "markdown",
      "metadata": {
        "id": "-Zx1H_LjSvUU"
      },
      "source": [
        "**Question 11b:** Create the following list of items: *chair, table, mouse, monitor, keyboard, pen, paper*. Then count how many items are in the list, and print the result.\n",
        "\n"
      ]
    },
    {
      "cell_type": "code",
      "metadata": {
        "id": "OI7C-hAHSvbm",
        "colab": {
          "base_uri": "https://localhost:8080/"
        },
        "outputId": "bdbf73ca-a113-4194-b154-7696bbed8369"
      },
      "source": [
        "# Provide your solution here\n"
      ],
      "execution_count": null,
      "outputs": [
        {
          "output_type": "stream",
          "text": [
            "7\n",
            "7\n"
          ],
          "name": "stdout"
        }
      ]
    },
    {
      "cell_type": "markdown",
      "metadata": {
        "id": "TUKsEXBIqg90"
      },
      "source": [
        "<img src='https://drive.google.com/uc?id=1_ZxToBYeOddC2pjMt25BhCyf-VgWDC_e' width=\"50\" height=\"50\"> \n",
        "> Can you do it without using the **len** method?"
      ]
    },
    {
      "cell_type": "markdown",
      "metadata": {
        "id": "5SVL43aRTL3G"
      },
      "source": [
        "**Question 12:** Create the following list of items: *chair, table, chair, table, table, pen, paper*. Then count how many *chairs* are in the list, and print the result wihtout using the **len** function.\n"
      ]
    },
    {
      "cell_type": "code",
      "metadata": {
        "id": "lFjpEI3zTMKC",
        "colab": {
          "base_uri": "https://localhost:8080/"
        },
        "outputId": "793d125a-4f39-483c-e691-e6ad4f97ec51"
      },
      "source": [
        "# Provide your solution here\n",
        "\n"
      ],
      "execution_count": null,
      "outputs": [
        {
          "output_type": "stream",
          "text": [
            "2\n"
          ],
          "name": "stdout"
        }
      ]
    },
    {
      "cell_type": "markdown",
      "metadata": {
        "id": "3n7bTDCNihlM"
      },
      "source": [
        "**Question 13:** Create the following list of items: *chair, table, chair, table, table, pen, paper*. Then count how many *chairs* and how many *tables* are in the list. Print both the result.\n",
        "\n",
        "The output should look like this:\n",
        "*There are 2 chairs and 3 tables*\n",
        "\n"
      ]
    },
    {
      "cell_type": "code",
      "metadata": {
        "id": "b6nVl3MJk6Gh",
        "colab": {
          "base_uri": "https://localhost:8080/"
        },
        "outputId": "f8e917e7-1a01-43a5-accd-0c1d3b0ed326"
      },
      "source": [
        "# Provide your solution here\n"
      ],
      "execution_count": null,
      "outputs": [
        {
          "output_type": "stream",
          "text": [
            "There are  2  chairs and  3  tables\n"
          ],
          "name": "stdout"
        }
      ]
    },
    {
      "cell_type": "markdown",
      "metadata": {
        "id": "YyudIzQ0jVlc"
      },
      "source": [
        "**Question 14:** Write a program to create a list of fruits including *apple, banana, cherry, banana, pineapple*.\n",
        "Create an algorithm to search for a banana in the list and stop the algorithm if you find it. The algorithm should stop at the first instance of the *banana* in our list to save computational time. This means that we do not want to continue running the program if we have our result."
      ]
    },
    {
      "cell_type": "code",
      "metadata": {
        "id": "7W_z0ELqihtr",
        "colab": {
          "base_uri": "https://localhost:8080/"
        },
        "outputId": "f113fc5f-04f4-4109-9670-cf1765dc32cb"
      },
      "source": [
        "# Provide your solution here\n"
      ],
      "execution_count": null,
      "outputs": [
        {
          "output_type": "stream",
          "text": [
            "apple\n",
            "banana\n",
            "Banana found!\n"
          ],
          "name": "stdout"
        }
      ]
    },
    {
      "cell_type": "markdown",
      "metadata": {
        "id": "_S0sQ_o_hjYL"
      },
      "source": [
        "**Question 15a:** Study and run the following code. The program checks if a looking value is present in the text. In our case, we are looking for the value **Verona** in the first lines of Romeo and Juliet prologue."
      ]
    },
    {
      "cell_type": "markdown",
      "metadata": {
        "id": "0FBxFKc-lO9v"
      },
      "source": [
        "<img src='https://drive.google.com/uc?id=1zHRUx7gL2e5LMUMQ1_zPt6V0MI-v5Iv5' width=\"50\" height=\"50\"> \n",
        "> The **in** keyword is used to check if a value is present in a sequence (list, range, string etc.)."
      ]
    },
    {
      "cell_type": "code",
      "metadata": {
        "id": "yeoOiscqhjm-",
        "colab": {
          "base_uri": "https://localhost:8080/"
        },
        "outputId": "70ea3eb7-16c5-48d3-cf17-c2863990d160"
      },
      "source": [
        "# \r\n",
        "# This is how to add a multiline text\r\n",
        "\r\n",
        "text = \"\"\"Two households, both alike in dignity, \r\n",
        "          In fair Verona, where we lay our scene, \r\n",
        "          From ancient grudge break to new mutiny, \r\n",
        "          Where civil blood makes civil hands unclean.\r\n",
        "       \"\"\"\r\n",
        "\r\n",
        "lookfor = \"Verona\"\r\n",
        "\r\n",
        "if lookfor in text:\r\n",
        "  print(lookfor,\"exists!\")"
      ],
      "execution_count": null,
      "outputs": [
        {
          "output_type": "stream",
          "text": [
            "Verona exists!\n"
          ],
          "name": "stdout"
        }
      ]
    },
    {
      "cell_type": "markdown",
      "metadata": {
        "id": "rPFeUMh9jtq4"
      },
      "source": [
        "**Question 15b:** Write a program to create the following list of words *car, cat, spot, talk, way, code*\n",
        "\n",
        "*   Search and print for the words starting with *ca*, such as *car, cat, ...*.\n",
        "\n",
        "*   In case that there are not results, print \"No results\".\n",
        "\n",
        "<img src='https://drive.google.com/uc?id=1zHRUx7gL2e5LMUMQ1_zPt6V0MI-v5Iv5' width=\"50\" height=\"50\"> \n",
        "> Alternatively you can use a string slicing approach to extract the first two letters of the words and make the comparison."
      ]
    },
    {
      "cell_type": "markdown",
      "metadata": {
        "id": "J6xCoCeFhd3F"
      },
      "source": [
        "<img src='https://drive.google.com/uc?id=1TILfsLPhdXLqyGIjILDLcNtvk-wACxyX' width=\"50\" height=\"50\"> \r\n",
        "> This is a challenging task, so take your time."
      ]
    },
    {
      "cell_type": "code",
      "metadata": {
        "id": "B7q0ICVqjtz6",
        "colab": {
          "base_uri": "https://localhost:8080/"
        },
        "outputId": "1356e608-bfab-4ee5-fbcc-0c6c3ff72613"
      },
      "source": [
        "# Provide your solution here\n",
        "\n",
        "# There are many ways to approach this exercise.\n",
        "\n"
      ],
      "execution_count": null,
      "outputs": [
        {
          "output_type": "stream",
          "text": [
            "First way\n",
            "car  starts with ca...\n",
            "cat  starts with ca...\n",
            "spot : Something else..\n",
            "talk : Something else..\n",
            "way : Something else..\n",
            "code : Something else..\n",
            "Second way\n",
            "car  starts with ca...\n",
            "cat  starts with ca...\n",
            "spot : Something else..\n",
            "talk : Something else..\n",
            "way : Something else..\n",
            "code : Something else..\n"
          ],
          "name": "stdout"
        }
      ]
    }
  ]
}