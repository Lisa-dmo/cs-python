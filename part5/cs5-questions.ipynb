{
  "nbformat": 4,
  "nbformat_minor": 0,
  "metadata": {
    "colab": {
      "name": "Demystifying Comp Class 5 Questions.ipynb",
      "provenance": [],
      "collapsed_sections": []
    },
    "kernelspec": {
      "name": "python3",
      "display_name": "Python 3"
    }
  },
  "cells": [
    {
      "cell_type": "markdown",
      "metadata": {
        "id": "37nZbUCQK6zA"
      },
      "source": [
        "# Welcome to Class 5 exercises.\n",
        "\n",
        "**Answer the following questions using Python programming language and the slides of class 5.**"
      ]
    },
    {
      "cell_type": "markdown",
      "metadata": {
        "id": "FM5onNPWp80V"
      },
      "source": [
        "**Question 1:** Create a program to print the elements of the following list *alist=[1,8,4,8,12,8]*.\n"
      ]
    },
    {
      "cell_type": "code",
      "metadata": {
        "id": "OFB9l6dZp87K",
        "colab": {
          "base_uri": "https://localhost:8080/"
        },
        "outputId": "d41b771a-b9a6-43b9-87fa-317849890614"
      },
      "source": [
        "# Provide your solution here\n",
        "\n"
      ],
      "execution_count": null,
      "outputs": [
        {
          "output_type": "stream",
          "text": [
            "1\n",
            "8\n",
            "4\n",
            "8\n",
            "12\n",
            "8\n"
          ],
          "name": "stdout"
        }
      ]
    },
    {
      "cell_type": "markdown",
      "metadata": {
        "id": "AM9gAeC9qD11"
      },
      "source": [
        "**Question 2:** Using the *alist* from question 1, eliminate the duplicated values. Print your results as a list using the *list* method, for more information visit the following link: https://www.w3schools.com/python/ref_func_list.asp"
      ]
    },
    {
      "cell_type": "code",
      "metadata": {
        "id": "1go8egh_qD-G",
        "colab": {
          "base_uri": "https://localhost:8080/"
        },
        "outputId": "f7c1f92c-2d41-4394-f740-f0a0d15fe433"
      },
      "source": [
        "# Provide your solution here\n",
        "\n"
      ],
      "execution_count": null,
      "outputs": [
        {
          "output_type": "stream",
          "text": [
            "[8, 1, 4, 12]\n"
          ],
          "name": "stdout"
        }
      ]
    },
    {
      "cell_type": "markdown",
      "metadata": {
        "id": "vBlt3VTTqb_3"
      },
      "source": [
        "**Question 3:** Create a dictionary calles *mydictionary* for the following dataset and print it.\n",
        "\n",
        "* ID: 1256\n",
        "* Name: Mary\n",
        "* Address: London\n",
        "* Email: mary@abc.com\n"
      ]
    },
    {
      "cell_type": "code",
      "metadata": {
        "id": "h1cKeWBGqcKF",
        "colab": {
          "base_uri": "https://localhost:8080/"
        },
        "outputId": "57716a2e-2dd3-4259-d044-68545247ad48"
      },
      "source": [
        "# Provide your solution here\n",
        "\n"
      ],
      "execution_count": null,
      "outputs": [
        {
          "output_type": "stream",
          "text": [
            "{'ID': 1256, 'Name': 'Mary', 'Address': 'London', 'Email': 'mary@abc.com'}\n"
          ],
          "name": "stdout"
        }
      ]
    },
    {
      "cell_type": "markdown",
      "metadata": {
        "id": "OEd39PlVqKSe"
      },
      "source": [
        "**Question 4:** Print the *Name* and *Email* of the *mydictionary*. "
      ]
    },
    {
      "cell_type": "code",
      "metadata": {
        "id": "D_lgfcmzqKZk",
        "colab": {
          "base_uri": "https://localhost:8080/"
        },
        "outputId": "3e75bab9-ae76-49f8-eb0c-fe00bd393224"
      },
      "source": [
        "# Provide your solution here\n",
        "\n",
        "\n"
      ],
      "execution_count": null,
      "outputs": [
        {
          "output_type": "stream",
          "text": [
            "Mary : mary@abc.com\n"
          ],
          "name": "stdout"
        }
      ]
    },
    {
      "cell_type": "markdown",
      "metadata": {
        "id": "bgALfdZCpUcA"
      },
      "source": [
        "**Question 5:** Create a program to map two lists into one dictionary. The two lists are as follows:\n",
        "* keys = ['red', 'green', 'blue']\n",
        "* values = ['#FF0000','#008000', '#0000FF']\n",
        "\n",
        "You are adviced to use the *zip* method, for more information check the following link: https://www.w3schools.com/python/ref_func_zip.asp\n",
        "\n",
        "To create a new dictionary, you can use the *dict* method, for more information visit the following link: https://www.w3schools.com/python/ref_func_dict.asp"
      ]
    },
    {
      "cell_type": "code",
      "metadata": {
        "id": "eaeNtERTpUjm",
        "colab": {
          "base_uri": "https://localhost:8080/"
        },
        "outputId": "a128e474-d791-4dff-cd78-11e4b4140814"
      },
      "source": [
        "# Provide your solution here\n",
        "\n"
      ],
      "execution_count": null,
      "outputs": [
        {
          "output_type": "stream",
          "text": [
            "{'red': '#FF0000', 'green': '#008000', 'blue': '#0000FF'}\n"
          ],
          "name": "stdout"
        }
      ]
    },
    {
      "cell_type": "markdown",
      "metadata": {
        "id": "yYmWUCRyu4vN"
      },
      "source": [
        "<img src='https://drive.google.com/uc?id=1zHRUx7gL2e5LMUMQ1_zPt6V0MI-v5Iv5' width=\"50\" height=\"50\"> \r\n",
        ">   Note that in many cases we might need to transform a list to a set and then back to a list again, for example to eliminate duplicated values. "
      ]
    },
    {
      "cell_type": "markdown",
      "metadata": {
        "id": "ivySIQo9rPcq"
      },
      "source": [
        "**Question 6:** Let us create a new tuple, study the following code and run it."
      ]
    },
    {
      "cell_type": "code",
      "metadata": {
        "id": "uRmuQdZ2rPj4",
        "colab": {
          "base_uri": "https://localhost:8080/"
        },
        "outputId": "c4bd7c0b-8674-4389-cf86-0d5ef4ed0aff"
      },
      "source": [
        "# A tuple is a collection which is ordered and unchangeable. \n",
        "# In Python tuples are written with round brackets.\n",
        "\n",
        "names = (\"Jonathan\", \"Mary\", \"Gus\")\n",
        "\n",
        "print(names)\n",
        "\n",
        "print(names[2])"
      ],
      "execution_count": null,
      "outputs": [
        {
          "output_type": "stream",
          "text": [
            "('Jonathan', 'Mary', 'Gus')\n",
            "Gus\n"
          ],
          "name": "stdout"
        }
      ]
    },
    {
      "cell_type": "markdown",
      "metadata": {
        "id": "tJZ9ikItr6UH"
      },
      "source": [
        "<img src='https://drive.google.com/uc?id=1zHRUx7gL2e5LMUMQ1_zPt6V0MI-v5Iv5' width=\"50\" height=\"50\"> \r\n",
        ">   Note that we cannot change a tuple, so using a tuple instead of a list can give the programmer and the interpreter a hint that the data should not be changed! "
      ]
    },
    {
      "cell_type": "markdown",
      "metadata": {
        "id": "JgM448dpsJN7"
      },
      "source": [
        "**Question 7:** We will start working with a *CSV* file. A comma-separated values (CSV) file is a delimited text file that uses a comma to separate values. We will need to upload the *Biostats.csv* file using the following code.\n",
        "\n",
        "Download the *Biostats.csv* file from Moodle to your computer for example in your desktop, then run the code and upload the file from your computer.\n"
      ]
    },
    {
      "cell_type": "code",
      "metadata": {
        "id": "Q57xy3mqsJWq",
        "colab": {
          "resources": {
            "http://localhost:8080/nbextensions/google.colab/files.js": {
              "data": "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",
              "ok": true,
              "headers": [
                [
                  "content-type",
                  "application/javascript"
                ]
              ],
              "status": 200,
              "status_text": ""
            }
          },
          "base_uri": "https://localhost:8080/",
          "height": 72
        },
        "outputId": "9532c4f4-4cd1-40c2-cf77-61aaca278252"
      },
      "source": [
        "# Run the code and upload the file\n",
        "\n",
        "from google.colab import files \n",
        "uploaded = files.upload()"
      ],
      "execution_count": null,
      "outputs": [
        {
          "output_type": "display_data",
          "data": {
            "text/html": [
              "\n",
              "     <input type=\"file\" id=\"files-70631ed6-cf44-40af-a211-434c57e9e31e\" name=\"files[]\" multiple disabled\n",
              "        style=\"border:none\" />\n",
              "     <output id=\"result-70631ed6-cf44-40af-a211-434c57e9e31e\">\n",
              "      Upload widget is only available when the cell has been executed in the\n",
              "      current browser session. Please rerun this cell to enable.\n",
              "      </output>\n",
              "      <script src=\"/nbextensions/google.colab/files.js\"></script> "
            ],
            "text/plain": [
              "<IPython.core.display.HTML object>"
            ]
          },
          "metadata": {
            "tags": []
          }
        },
        {
          "output_type": "stream",
          "text": [
            "Saving Biostats.csv to Biostats.csv\n"
          ],
          "name": "stdout"
        }
      ]
    },
    {
      "cell_type": "markdown",
      "metadata": {
        "id": "_kAv9lz5uk3V"
      },
      "source": [
        "**Question 8.1:** Let us examine the file, it is always a good idea to open the file e.g. in Excel and try to understand its structure. \n",
        "\n",
        "In our case, the **Biostats** file includes five columns and is a selection of biostatistics of a company's employees."
      ]
    },
    {
      "cell_type": "markdown",
      "metadata": {
        "id": "uWHEqXsjSOoc"
      },
      "source": [
        "![Example of Biostats data.PNG](data:image/png;base64,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)"
      ]
    },
    {
      "cell_type": "markdown",
      "metadata": {
        "id": "G0VsQzMAvRpD"
      },
      "source": [
        "**Question 8.2:** Let us open the file and print some of the data. We will use the Python *csv* library that has a selection of methods for us to use.\n",
        "\n",
        "We will first open the *Biostats.csv* file and then extract the data into a dictionary called *reader*.\n",
        "\n",
        "Study and run the following code.\n",
        "\n",
        "What does it print?"
      ]
    },
    {
      "cell_type": "code",
      "metadata": {
        "id": "HX5ZuWIUvRyr",
        "colab": {
          "base_uri": "https://localhost:8080/"
        },
        "outputId": "23db71c5-def1-438f-beeb-9d4456649c34"
      },
      "source": [
        "import csv\n",
        "with open('Biostats.csv', newline='', encoding=\"utf-8-sig\") as csvfile:\n",
        "    reader = csv.DictReader(csvfile)\n",
        "    # My program starts here!\n",
        "    for row in reader:\n",
        "        print(row['Name'])\n",
        "\n",
        "# The code prints ..."
      ],
      "execution_count": null,
      "outputs": [
        {
          "output_type": "stream",
          "text": [
            "Alex\n",
            "Bert\n",
            "Dave\n",
            "Dave\n",
            "Elly\n",
            "Fran\n",
            "Gwen\n",
            "Hank\n",
            "Luke\n",
            "Jake\n",
            "Kate\n",
            "Luke\n",
            "Myra\n",
            "Neil\n",
            "Omar\n",
            "Page\n",
            "Luke\n",
            "Ruth\n"
          ],
          "name": "stdout"
        }
      ]
    },
    {
      "cell_type": "markdown",
      "metadata": {
        "id": "uDisZ_K8wTPY"
      },
      "source": [
        "**Question 9:** Reuse the code of question 8.2 to count how many rows are in your dataset. Print the results."
      ]
    },
    {
      "cell_type": "code",
      "metadata": {
        "id": "2Rf6WjgcwTbg",
        "colab": {
          "base_uri": "https://localhost:8080/"
        },
        "outputId": "17863cd0-b506-4817-8c97-09a0588f86e3"
      },
      "source": [
        "# Provide your solution here\n",
        "\n"
      ],
      "execution_count": null,
      "outputs": [
        {
          "output_type": "stream",
          "text": [
            "18\n"
          ],
          "name": "stdout"
        }
      ]
    },
    {
      "cell_type": "markdown",
      "metadata": {
        "id": "SlT9vfcmzLi9"
      },
      "source": [
        "<img src='https://drive.google.com/uc?id=1zHRUx7gL2e5LMUMQ1_zPt6V0MI-v5Iv5' width=\"50\" height=\"50\"> \r\n",
        ">  Note that we have 18 rows of data, however the first row includes the titles of our dataset, for example *Name, etc.*."
      ]
    },
    {
      "cell_type": "markdown",
      "metadata": {
        "id": "I4hfKP49OjRp"
      },
      "source": [
        "**Question 10:** Reuse the code of question 8.2 to count how many times the name *Luke* appears in the \"Name\" column of the dataset. Print the results."
      ]
    },
    {
      "cell_type": "code",
      "metadata": {
        "id": "dPUlDiq7PFS-",
        "colab": {
          "base_uri": "https://localhost:8080/"
        },
        "outputId": "45222118-b9a6-4ada-9452-9a807616277b"
      },
      "source": [
        "# Provide your solution here\n",
        "\n"
      ],
      "execution_count": null,
      "outputs": [
        {
          "output_type": "stream",
          "text": [
            "3\n"
          ],
          "name": "stdout"
        }
      ]
    },
    {
      "cell_type": "markdown",
      "metadata": {
        "id": "eHnGHSItO6Fw"
      },
      "source": [
        "**Question 11:** Reuse the code of question 8.2 to count how many empty rows are in the column **Name** of your dataset. Print the results."
      ]
    },
    {
      "cell_type": "code",
      "metadata": {
        "id": "iDLW0iZHNtGr",
        "colab": {
          "base_uri": "https://localhost:8080/"
        },
        "outputId": "9860dc4e-1115-4968-ffe7-13e71b69b37a"
      },
      "source": [
        "# Provide your solution here\n",
        "\n"
      ],
      "execution_count": null,
      "outputs": [
        {
          "output_type": "stream",
          "text": [
            "0\n"
          ],
          "name": "stdout"
        }
      ]
    },
    {
      "cell_type": "markdown",
      "metadata": {
        "id": "PKgyO50XSWyk"
      },
      "source": [
        "<img src='https://drive.google.com/uc?id=1zHRUx7gL2e5LMUMQ1_zPt6V0MI-v5Iv5' width=\"50\" height=\"50\"> \r\n",
        ">  There are 0 empty records in our dataset, this is not usually the case. We will always need to check if there empty records to make sure we are preparing the dataset for further analysis."
      ]
    },
    {
      "cell_type": "markdown",
      "metadata": {
        "id": "3xiImN-APj9X"
      },
      "source": [
        "**Question 12:** Create a program to count how many employees are over 30. Print the result."
      ]
    },
    {
      "cell_type": "code",
      "metadata": {
        "id": "6M81t5CwPkF5",
        "colab": {
          "base_uri": "https://localhost:8080/"
        },
        "outputId": "2e05de2a-0c89-4ac9-e711-515ea2a1814c"
      },
      "source": [
        "# Provide your solution here\n",
        "\n"
      ],
      "execution_count": null,
      "outputs": [
        {
          "output_type": "stream",
          "text": [
            "12\n"
          ],
          "name": "stdout"
        }
      ]
    },
    {
      "cell_type": "markdown",
      "metadata": {
        "id": "YrcZl6wpRRL6"
      },
      "source": [
        "<img src='https://drive.google.com/uc?id=1zHRUx7gL2e5LMUMQ1_zPt6V0MI-v5Iv5' width=\"50\" height=\"50\"> \r\n",
        ">   There are 12 employees over 30 years old. Please note that when we extract data from a file, we might need to transform it to the appropriate format e.g. from string (str) to an integer (int)."
      ]
    },
    {
      "cell_type": "markdown",
      "metadata": {
        "id": "OTdhAH2cRgmJ"
      },
      "source": [
        "**Question 13:** Create a program to count how many employees are between 30 and 40. Print the result."
      ]
    },
    {
      "cell_type": "code",
      "metadata": {
        "id": "_gGJKITxRgu8",
        "colab": {
          "base_uri": "https://localhost:8080/"
        },
        "outputId": "d0170897-8426-462d-aa0c-95093613f570"
      },
      "source": [
        "# Provide your solution here\n",
        "\n"
      ],
      "execution_count": null,
      "outputs": [
        {
          "output_type": "stream",
          "text": [
            "8\n"
          ],
          "name": "stdout"
        }
      ]
    },
    {
      "cell_type": "markdown",
      "metadata": {
        "id": "2WpZ0uI5Uuxb"
      },
      "source": [
        "**Question 14.1:** Study and run the following code. The program finds the maximum number in a list of positive numbers, without using the built-in *max* method.\r\n",
        "\r\n",
        "<img src='https://drive.google.com/uc?id=1TILfsLPhdXLqyGIjILDLcNtvk-wACxyX' width=\"50\" height=\"50\"> \r\n",
        "> This is a challenging task, so take your time to study it."
      ]
    },
    {
      "cell_type": "code",
      "metadata": {
        "id": "Rb6h2RNYUvrh",
        "colab": {
          "base_uri": "https://localhost:8080/"
        },
        "outputId": "690fb509-f37e-46da-c98e-7275a436fba9"
      },
      "source": [
        "alist = [1, 3, 5, 2, 4]\n",
        "\n",
        "max = 0         # We initialise a max variable to zero\n",
        "for i in alist: # For each element of my list\n",
        "  if i>max:     # If the element is bigger than the max\n",
        "    max=i       # Make it max\n",
        "\n",
        "# The above compares all the numbers one after the other and keeps \n",
        "# memory of the maximum value\n",
        "\n",
        "print(max)"
      ],
      "execution_count": null,
      "outputs": [
        {
          "output_type": "stream",
          "text": [
            "5\n"
          ],
          "name": "stdout"
        }
      ]
    },
    {
      "cell_type": "markdown",
      "metadata": {
        "id": "4wYkmGoUSzzC"
      },
      "source": [
        "**Question 14.2:** Create a program to find the oldest person in the dataset. Print the name and age of this person. Reuse the code of the previous question to run this example. \r\n",
        "\r\n",
        "<img src='https://drive.google.com/uc?id=1TILfsLPhdXLqyGIjILDLcNtvk-wACxyX' width=\"50\" height=\"50\"> \r\n",
        "> This is a challenging task, so take your time to study it."
      ]
    },
    {
      "cell_type": "code",
      "metadata": {
        "id": "odMeN87YSz6C",
        "colab": {
          "base_uri": "https://localhost:8080/"
        },
        "outputId": "4ca73834-22f0-41a4-c73a-d1ef3ab46313"
      },
      "source": [
        "# Provide your solution here\n",
        "\n"
      ],
      "execution_count": null,
      "outputs": [
        {
          "output_type": "stream",
          "text": [
            "Luke 53\n"
          ],
          "name": "stdout"
        }
      ]
    },
    {
      "cell_type": "markdown",
      "metadata": {
        "id": "eLsTRnvmVxT3"
      },
      "source": [
        "**Question 15.1:** Generating random numbers is essential when we program with python. This could help us create datasets to run some analytics. Study and run the following code that generates 10 random numbers and store it in a list."
      ]
    },
    {
      "cell_type": "code",
      "metadata": {
        "id": "T6DxUBj5Vxau",
        "colab": {
          "base_uri": "https://localhost:8080/"
        },
        "outputId": "84eb4c63-7603-42bf-dda5-87f3bc3ef3cc"
      },
      "source": [
        " # This code generates 10 random numbers between 1 and 100\n",
        " # Each time you run it, it generates different numbers\n",
        "import random\n",
        "alist = []\n",
        "for i in range(10):\n",
        "    alist.append(random.randint(1,100))\n",
        "print(alist)"
      ],
      "execution_count": null,
      "outputs": [
        {
          "output_type": "stream",
          "text": [
            "[59, 35, 11, 88, 78, 85, 29, 85, 9, 39]\n"
          ],
          "name": "stdout"
        }
      ]
    },
    {
      "cell_type": "markdown",
      "metadata": {
        "id": "2HBOijsLWXZ0"
      },
      "source": [
        "**Question 15.2:** Study and run the following code that generates 10 random numbers using the *seed* method. This can help us generate always the same numbers."
      ]
    },
    {
      "cell_type": "code",
      "metadata": {
        "id": "BjLN5e_CWXgr",
        "colab": {
          "base_uri": "https://localhost:8080/"
        },
        "outputId": "fb2f5528-c61e-41bf-d157-17b8b5cdffe1"
      },
      "source": [
        "# This code generates 10 random numbers between 1 and 100\n",
        "# Each time you run it, it generates exactly the same numbers\n",
        "# This is because of the seed method\n",
        "\n",
        "import random\n",
        "random.seed(1)\n",
        "alist = []\n",
        "for i in range(10):\n",
        "    alist.append(random.randint(1,100))\n",
        "print(alist)"
      ],
      "execution_count": null,
      "outputs": [
        {
          "output_type": "stream",
          "text": [
            "[18, 73, 98, 9, 33, 16, 64, 98, 58, 61]\n"
          ],
          "name": "stdout"
        }
      ]
    },
    {
      "cell_type": "markdown",
      "metadata": {
        "id": "MQGz7QodW_QC"
      },
      "source": [
        "**Question 16:** Create a function called *generator* to allow a user to generate random numbers between 1 and 100. The function will accept as argument the number of numbers to generate and will return a list of the random numbers."
      ]
    },
    {
      "cell_type": "code",
      "metadata": {
        "id": "mRC4CwHiW_Y2",
        "colab": {
          "base_uri": "https://localhost:8080/"
        },
        "outputId": "93bf3f61-eafb-4853-a2e6-36bb1f556181"
      },
      "source": [
        "# Provide your solution here\n",
        "\n"
      ],
      "execution_count": null,
      "outputs": [
        {
          "output_type": "stream",
          "text": [
            "[99, 1, 90, 58, 35, 93, 30, 76, 14, 41]\n"
          ],
          "name": "stdout"
        }
      ]
    },
    {
      "cell_type": "markdown",
      "metadata": {
        "id": "jEpFpm6ZW7HJ"
      },
      "source": [
        "**Question 17:** Let us create a simple plot using the matplotlib library. Study and run the following code."
      ]
    },
    {
      "cell_type": "code",
      "metadata": {
        "id": "575BeSjmW7PT",
        "colab": {
          "base_uri": "https://localhost:8080/",
          "height": 592
        },
        "outputId": "901a26c2-6c77-4ee3-a34c-22d8ca73b2bf"
      },
      "source": [
        "import matplotlib.pyplot as plt\n",
        "\n",
        "data_x = [1,4,7,15,32]\n",
        "data_y = [4,16,20,34,44]\n",
        "\n",
        "plt.figure(figsize=(10,10)) # Let us resize the diagram to look better\n",
        "plt.plot(data_x,data_y) # We plot the data\n",
        "plt.show() # We ask Python to visualise the plot"
      ],
      "execution_count": null,
      "outputs": [
        {
          "output_type": "display_data",
          "data": {
            "image/png": "[encoded data removed]",
            "text/plain": [
              "<Figure size 720x720 with 1 Axes>"
            ]
          },
          "metadata": {
            "tags": [],
            "needs_background": "light"
          }
        }
      ]
    },
    {
      "cell_type": "markdown",
      "metadata": {
        "id": "oSmlOQmfYEIZ"
      },
      "source": [
        "**Question 18:** Create a plot using the names and the weights of the employees. The diagram should have as x-axis the *Name* and as y-axis the *Weight(lbs)* values. Use a scatter plot for demonstrating the results. For more information visit the following link: https://www.w3schools.com/python/python_ml_scatterplot.asp.\r\n",
        "\r\n",
        "\r\n",
        "<img src='https://drive.google.com/uc?id=1TILfsLPhdXLqyGIjILDLcNtvk-wACxyX' width=\"50\" height=\"50\"> \r\n",
        "> Study and run the following code.\r\n"
      ]
    },
    {
      "cell_type": "code",
      "metadata": {
        "id": "FBoMPqntYEUQ",
        "colab": {
          "base_uri": "https://localhost:8080/",
          "height": 592
        },
        "outputId": "eddc88f5-566f-4272-a15b-aa9477fc1826"
      },
      "source": [
        "import csv\n",
        "with open('Biostats.csv', newline='', encoding=\"utf-8-sig\") as csvfile:\n",
        "    reader = csv.DictReader(csvfile)\n",
        "    x = []\n",
        "    y = []\n",
        "    for row in reader:\n",
        "        x.append(row['Name'])\n",
        "        y.append(row['Weight(lbs)'])\n",
        "plt.figure(figsize=(10,10))\n",
        "plt.scatter(x,y)\n",
        "plt.show()"
      ],
      "execution_count": null,
      "outputs": [
        {
          "output_type": "display_data",
          "data": {
            "image/png": "[encoded data removed]",
            "text/plain": [
              "<Figure size 720x720 with 1 Axes>"
            ]
          },
          "metadata": {
            "tags": [],
            "needs_background": "light"
          }
        }
      ]
    },
    {
      "cell_type": "markdown",
      "metadata": {
        "id": "Y15StAH8CWh4"
      },
      "source": [
        "**Question 19:** Create a scatter plot diagram using as x-axis the *Name* and as y-axis the *Age* values. Use a  plot for demonstrating the results. "
      ]
    },
    {
      "cell_type": "code",
      "metadata": {
        "colab": {
          "base_uri": "https://localhost:8080/",
          "height": 592
        },
        "id": "-POmmjAzCqvL",
        "outputId": "6d4c58ad-00cb-494a-9982-12cdaa1f853d"
      },
      "source": [
        "# Provide your solution here\r\n",
        "\r\n"
      ],
      "execution_count": null,
      "outputs": [
        {
          "output_type": "display_data",
          "data": {
            "image/png": "[encoded data removed]",
            "text/plain": [
              "<Figure size 720x720 with 1 Axes>"
            ]
          },
          "metadata": {
            "tags": [],
            "needs_background": "light"
          }
        }
      ]
    }
  ]
}