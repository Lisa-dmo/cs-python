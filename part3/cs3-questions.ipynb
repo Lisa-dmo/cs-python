{
  "nbformat": 4,
  "nbformat_minor": 0,
  "metadata": {
    "colab": {
      "name": "Demystifying Comp Class 3 Solutions.ipynb",
      "provenance": [],
      "collapsed_sections": []
    },
    "kernelspec": {
      "name": "python3",
      "display_name": "Python 3"
    }
  },
  "cells": [
    {
      "cell_type": "markdown",
      "metadata": {
        "id": "37nZbUCQK6zA"
      },
      "source": [
        "# Welcome to Class 3 exercises.\n",
        "\n",
        "**Answer the following questions using Python programming language and the slides of class 3.**"
      ]
    },
    {
      "cell_type": "markdown",
      "metadata": {
        "id": "PPpuu3Zerb66"
      },
      "source": [
        "**Question 1.1:** Study and run the following code. The program prompts the user to enter a number, if the number is equal to the magic number then it prints *You found it!*, in any other case, it continues to ask for input."
      ]
    },
    {
      "cell_type": "code",
      "metadata": {
        "colab": {
          "base_uri": "https://localhost:8080/"
        },
        "id": "wkKP8YomrcJY",
        "outputId": "be444f41-c832-435c-8482-02a8460e1022"
      },
      "source": [
        "magicnum = 13\n",
        "while (True):\n",
        "  anum = int(input(\"What is the magic number? \"))\n",
        "  if anum!= magicnum:\n",
        "    print(\"No! Try again...\")\n",
        "  else:\n",
        "    print(\"You found it!\")\n",
        "    break"
      ],
      "execution_count": null,
      "outputs": [
        {
          "output_type": "stream",
          "text": [
            "What is the magic number? 12\n",
            "No! Try again...\n",
            "What is the magic number? 8\n",
            "No! Try again...\n",
            "What is the magic number? 13\n",
            "You found it!\n"
          ],
          "name": "stdout"
        }
      ]
    },
    {
      "cell_type": "markdown",
      "metadata": {
        "id": "TmTcO33CsprL"
      },
      "source": [
        "**Question 1.2:** Study and run the following code. This program allows only 3 efforts to enter a number. Since I know the efforts number I use a **for** loop."
      ]
    },
    {
      "cell_type": "markdown",
      "metadata": {
        "id": "ycmb53R1u5pZ"
      },
      "source": [
        "<img src='https://drive.google.com/uc?id=1TILfsLPhdXLqyGIjILDLcNtvk-wACxyX' width=\"50\" height=\"50\"> \n",
        "> This is a challenging task, so take your time to study it."
      ]
    },
    {
      "cell_type": "code",
      "metadata": {
        "colab": {
          "base_uri": "https://localhost:8080/"
        },
        "id": "6FYIIHResqB9",
        "outputId": "f04abb2c-763f-4e79-c79f-79775bd39bd0"
      },
      "source": [
        "magicnum = 13\n",
        "efforts = 3\n",
        "print(\"You have three efforts!\")\n",
        "\n",
        "# Note range starts from zero!\n",
        "for i in range(efforts):\n",
        "    print(\"Effort:\",i)\n",
        "    anum = int(input(\"What is the magic number? \"))\n",
        "    if anum != magicnum:\n",
        "      if i!=efforts-1:      # If there are still efforts...\n",
        "        print(\"No! Try again...\")\n",
        "      else:                 # If efforts are over...\n",
        "        print(\"No! You are out of efforts\")\n",
        "    else:\n",
        "      print(\"You found it!\")\n",
        "      break"
      ],
      "execution_count": null,
      "outputs": [
        {
          "output_type": "stream",
          "text": [
            "You have three efforts!\n",
            "What is the magic number? 3\n",
            "No! Try again...\n",
            "What is the magic number? 3\n",
            "No! Try again...\n",
            "What is the magic number? 2\n",
            "You are out of efforts\n"
          ],
          "name": "stdout"
        }
      ]
    },
    {
      "cell_type": "markdown",
      "metadata": {
        "id": "FM5onNPWp80V"
      },
      "source": [
        "**Question 1.3:** Use a while loop to print numbers starting from 1 to 10.\n",
        "\n"
      ]
    },
    {
      "cell_type": "markdown",
      "metadata": {
        "id": "jMh4utuTq_Pk"
      },
      "source": [
        "<img src='https://drive.google.com/uc?id=1TILfsLPhdXLqyGIjILDLcNtvk-wACxyX' width=\"50\" height=\"50\"> \n",
        "> This is a challenging task, so take your time."
      ]
    },
    {
      "cell_type": "code",
      "metadata": {
        "id": "OFB9l6dZp87K",
        "colab": {
          "base_uri": "https://localhost:8080/"
        },
        "outputId": "ddffda12-bdbb-4a8a-984c-4ef31fea34ce"
      },
      "source": [
        "# Provide your solution here\n",
        "\n",
        "i = 1\n",
        "while i <= 10:\n",
        "  print(i)\n",
        "  i += 1"
      ],
      "execution_count": null,
      "outputs": [
        {
          "output_type": "stream",
          "text": [
            "1\n",
            "2\n",
            "3\n",
            "4\n",
            "5\n",
            "6\n",
            "7\n",
            "8\n",
            "9\n",
            "10\n"
          ],
          "name": "stdout"
        }
      ]
    },
    {
      "cell_type": "markdown",
      "metadata": {
        "id": "vBlt3VTTqb_3"
      },
      "source": [
        "**Question 2:** Study and run the following while loop. The script demonstrates the use of a while loop and an else statement."
      ]
    },
    {
      "cell_type": "code",
      "metadata": {
        "id": "h1cKeWBGqcKF"
      },
      "source": [
        "count = 0\n",
        "while count < 5:\n",
        "   print(count, \" is  less than 5\")\n",
        "   count = count + 1\n",
        "else:\n",
        "   print(count, \" is not less than 5\")"
      ],
      "execution_count": null,
      "outputs": []
    },
    {
      "cell_type": "markdown",
      "metadata": {
        "id": "t-Z5y6DTcagW"
      },
      "source": [
        "**Question 3:** Study and run the following while loop. Add a comment in every line. What this program prints?"
      ]
    },
    {
      "cell_type": "markdown",
      "metadata": {
        "id": "GiAeJatorLCo"
      },
      "source": [
        "<img src='https://drive.google.com/uc?id=1TILfsLPhdXLqyGIjILDLcNtvk-wACxyX' width=\"50\" height=\"50\"> \n",
        "> This is a challenging task, so take your time."
      ]
    },
    {
      "cell_type": "code",
      "metadata": {
        "id": "QqFFqMbGcavY"
      },
      "source": [
        "alist = [1, 3, 4, 5, 7, 9] # We have a list...\n",
        "\n",
        "index = 0 # We initialise the index, since we use while loop, we need to extract the index\n",
        "while(True): # Run a while loop\n",
        "    print(alist[index]) # Print the alist at position index\n",
        "    if index == len(alist)-1: # When you are at the end stop\n",
        "    #Note, the len(alist)=6, but remember we start count indexes from 0!\n",
        "        break # We break (stop our program execution)\n",
        "    index+=1 # We increase the index by one\n",
        "\n",
        "# This program prints the nuber of a list using a while loop"
      ],
      "execution_count": null,
      "outputs": []
    },
    {
      "cell_type": "markdown",
      "metadata": {
        "id": "H3ANuhW9LAa5"
      },
      "source": [
        "**Question 4:** Create a program to allow a user to enter numbers one after the other. After the user enters a number the program will print it. If the user enters zero (0) the program will exit."
      ]
    },
    {
      "cell_type": "code",
      "metadata": {
        "id": "SS-I9I49K5wK",
        "colab": {
          "base_uri": "https://localhost:8080/"
        },
        "outputId": "44bbe6b2-a175-4e1c-dd11-9308dae35f8e"
      },
      "source": [
        "# Provide your solution here\n",
        "\n",
        "while(True):\n",
        "    num = int(input(\"Enter a number: \"))\n",
        "    if num ==0:\n",
        "        print(\"Exit!\")\n",
        "        break\n",
        "    else:\n",
        "        print(num)"
      ],
      "execution_count": null,
      "outputs": [
        {
          "output_type": "stream",
          "text": [
            "Enter a number: 6\n",
            "6\n",
            "Enter a number: 5\n",
            "5\n",
            "Enter a number: 0\n",
            "Exit!\n"
          ],
          "name": "stdout"
        }
      ]
    },
    {
      "cell_type": "markdown",
      "metadata": {
        "id": "fXFVTrIeL1KD"
      },
      "source": [
        "**Question 5:** Create a program as previous question to allow a user to enter numbers one after the other. After the user enters a number the program will add the number to a list. If the user enters zero (0) the program will exit.  \n",
        "At the end the program will print the list only once."
      ]
    },
    {
      "cell_type": "code",
      "metadata": {
        "id": "yxkwT8TkL2nV",
        "colab": {
          "base_uri": "https://localhost:8080/"
        },
        "outputId": "e0e4241f-4eaa-4fde-c12f-bf8758e27942"
      },
      "source": [
        "#  Provide your solution here\n",
        "\n",
        "alist = []\n",
        "\n",
        "while(True):\n",
        "    num = int(input(\"Enter a number: \"))\n",
        "    if num ==0:\n",
        "        print(\"Exit!\")\n",
        "        break\n",
        "    else:\n",
        "        alist.append(num)\n",
        "\n",
        "print(alist)"
      ],
      "execution_count": null,
      "outputs": [
        {
          "output_type": "stream",
          "text": [
            "Enter a number: 3\n",
            "Enter a number: 4\n",
            "Enter a number: 5\n",
            "Enter a number: 0\n",
            "Exit!\n",
            "[3, 4, 5]\n"
          ],
          "name": "stdout"
        }
      ]
    },
    {
      "cell_type": "markdown",
      "metadata": {
        "id": "2zxV6nUrLD_Y"
      },
      "source": [
        "**Question 6:** Consider attempting this question at the end. \n",
        "\n",
        "Create a program to allow users to enter positive integer numbers one after the other. The program will print **yes** if the numbers are in ascending order, in any other case, it will print **no**, only once and at the end. If the user enters -1, the program will exit. This is  a high difficulty problem, that you might need to study the slides."
      ]
    },
    {
      "cell_type": "code",
      "metadata": {
        "id": "tdZKvEUaMa8k",
        "colab": {
          "base_uri": "https://localhost:8080/"
        },
        "outputId": "7abb5c1e-d01e-430a-a1bc-25daf2e047ad"
      },
      "source": [
        "# Provide your solution here\n",
        "\n",
        "temp = 0\n",
        "while(True):\n",
        "    num = int(input(\"Enter a number: \"))\n",
        "    if num==-1:\n",
        "        break\n",
        "    if num>temp:\n",
        "        asc='Yes'   \n",
        "    else:\n",
        "        asc='No'\n",
        "    temp = num\n",
        "print(asc)"
      ],
      "execution_count": null,
      "outputs": [
        {
          "output_type": "stream",
          "text": [
            "Enter a number: 5\n",
            "Enter a number: 4\n",
            "Enter a number: -1\n",
            "No\n"
          ],
          "name": "stdout"
        }
      ]
    },
    {
      "cell_type": "markdown",
      "metadata": {
        "id": "H277XNKutlg7"
      },
      "source": [
        "<img src='https://drive.google.com/uc?id=1zHRUx7gL2e5LMUMQ1_zPt6V0MI-v5Iv5' width=\"50\" height=\"50\"> \n",
        ">  Here we conclude our work with the *while* loop. As you noticed, it might be difficult to approach a problem and use while loops as we need always to control a base case for terminating the loop. We do not use *while* loops so often, but it is another tools for us to develop programs that need to run until interrupted by the user or another process (e.g. a counter)."
      ]
    },
    {
      "cell_type": "markdown",
      "metadata": {
        "id": "dpDO90Xbtij8"
      },
      "source": [
        "\n",
        "\n",
        "---\n",
        "\n"
      ]
    },
    {
      "cell_type": "markdown",
      "metadata": {
        "id": "iKaEBgbhuZ_H"
      },
      "source": [
        "**Question 7:** Study and run the following code. Provide comments for each line. What does the code print?"
      ]
    },
    {
      "cell_type": "code",
      "metadata": {
        "id": "t7Wu1yHfuaFh",
        "colab": {
          "base_uri": "https://localhost:8080/"
        },
        "outputId": "5455347e-17fc-49bc-fcde-ce3729627c38"
      },
      "source": [
        "def hiFunction(): # Create a new function that does not accept any arguments\n",
        "  print(\"Hello!\") # Print a hello!\n",
        "\n",
        "hiFunction() # Use the function (call the function)"
      ],
      "execution_count": null,
      "outputs": [
        {
          "output_type": "stream",
          "text": [
            "Hello!\n"
          ],
          "name": "stdout"
        }
      ]
    },
    {
      "cell_type": "markdown",
      "metadata": {
        "id": "YGnQrgvr0KfO"
      },
      "source": [
        "<img src='https://drive.google.com/uc?id=1WQphg5JK-cVYpbiVfPtOjz9yONtQKSnY' width=\"50\" height=\"50\"> \n",
        "> This function is called **void**, as it does not **return** a value."
      ]
    },
    {
      "cell_type": "markdown",
      "metadata": {
        "id": "tN7SRe_PvTos"
      },
      "source": [
        "**Question 8:** Study and run the following code. Provide comments for each line. What does the code print?"
      ]
    },
    {
      "cell_type": "code",
      "metadata": {
        "id": "ozxWpiPovTvq",
        "colab": {
          "base_uri": "https://localhost:8080/"
        },
        "outputId": "295c85cc-459b-4b36-9d79-8c47354b7382"
      },
      "source": [
        "def hiFunction(name): # Create a new function that accepts one argument\n",
        "  print(\"Hello\",name,\"!\") # Print a hello!\n",
        "\n",
        "hiFunction(\"Stelios\") # Use the function (call the function) using the argument \"Stelios\""
      ],
      "execution_count": null,
      "outputs": [
        {
          "output_type": "stream",
          "text": [
            "Hello Stelios !\n"
          ],
          "name": "stdout"
        }
      ]
    },
    {
      "cell_type": "markdown",
      "metadata": {
        "id": "Z7hijHuFvqGL"
      },
      "source": [
        "**Question 9.1:** Study and run the following code. Provide comments for each line."
      ]
    },
    {
      "cell_type": "code",
      "metadata": {
        "id": "TB4vCk9svqOv",
        "colab": {
          "base_uri": "https://localhost:8080/"
        },
        "outputId": "d75baabe-0d1d-44a9-9bc9-ae745ec70b65"
      },
      "source": [
        "num1 = int(input(\"Give a number: \")) # input a number\n",
        "num2 = int(input(\"Give a number: \")) # input a number\n",
        "operation = input(\"Select + or - : \") # input an operation\n",
        "\n",
        "if operation == \"+\": # Add two numbers \n",
        "  print(num1+num2)\n",
        "elif operation == \"-\": # Subtract two numbers \n",
        "  print(num1-num2)\n",
        "# More elif or else statements can be added here..."
      ],
      "execution_count": null,
      "outputs": [
        {
          "output_type": "stream",
          "text": [
            "Give first name: 3\n",
            "Give last name: 4\n",
            "Select + or - : +\n",
            "7\n"
          ],
          "name": "stdout"
        }
      ]
    },
    {
      "cell_type": "markdown",
      "metadata": {
        "id": "wJubb8zV09-E"
      },
      "source": [
        "<img src='https://drive.google.com/uc?id=1WQphg5JK-cVYpbiVfPtOjz9yONtQKSnY' width=\"50\" height=\"50\"> \n",
        "> Let's transform the above code to a function. How many inputs do we have? That is the number of our arguments...\n",
        "\n",
        "\n",
        "**Question 9.2:** Run the following code. This code does not print something, but it creates a simple **cacl**ulator function."
      ]
    },
    {
      "cell_type": "code",
      "metadata": {
        "id": "lTUrc9QB1Jsn"
      },
      "source": [
        "def calc(n1,n2,operation):\n",
        "  if operation == \"+\":\n",
        "    return(n1+n2)\n",
        "  else:\n",
        "    return(n1-n2)"
      ],
      "execution_count": null,
      "outputs": []
    },
    {
      "cell_type": "markdown",
      "metadata": {
        "id": "Y6Ozj-RA1XOd"
      },
      "source": [
        "**Question 9.3:** Use the above function (*calc*). Study and run the following code."
      ]
    },
    {
      "cell_type": "code",
      "metadata": {
        "colab": {
          "base_uri": "https://localhost:8080/"
        },
        "id": "i7w3PURN1jUY",
        "outputId": "48918c97-2d27-48bf-9153-e5ec9ae3fb7d"
      },
      "source": [
        "num1 = int(input(\"Give a number: \"))\n",
        "num2 = int(input(\"Give a number: \"))\n",
        "operation = input(\"Select + or - : \")\n",
        "\n",
        "result = calc(num1,num2,operation)\n",
        "\n",
        "print(result)"
      ],
      "execution_count": null,
      "outputs": [
        {
          "output_type": "stream",
          "text": [
            "Give a number: 5\n",
            "Give a number: 2\n",
            "Select + or - : +\n",
            "7\n"
          ],
          "name": "stdout"
        }
      ]
    },
    {
      "cell_type": "markdown",
      "metadata": {
        "id": "laPPKRJw178q"
      },
      "source": [
        "<img src='https://drive.google.com/uc?id=1WQphg5JK-cVYpbiVfPtOjz9yONtQKSnY' width=\"50\" height=\"50\"> \n",
        "> You can use the **calc** function again and again..."
      ]
    },
    {
      "cell_type": "markdown",
      "metadata": {
        "id": "DEQMtDnjuQPp"
      },
      "source": [
        "**Question 10:** Create a function to return *hello world!*. Print the result."
      ]
    },
    {
      "cell_type": "code",
      "metadata": {
        "id": "9IidkuT5uQYW",
        "colab": {
          "base_uri": "https://localhost:8080/"
        },
        "outputId": "dba6c54c-3ce4-4655-d20d-af0bc5d0fa30"
      },
      "source": [
        "# Provide your solution here\n",
        "\n",
        "def hiFunction(): # Create a new function that does not accept any arguments\n",
        "  return(\"Hello world!\") # Print a hello!\n",
        "  \n",
        "print(hiFunction()) # Use the function (call the function)"
      ],
      "execution_count": null,
      "outputs": [
        {
          "output_type": "stream",
          "text": [
            "Hello world!\n"
          ],
          "name": "stdout"
        }
      ]
    },
    {
      "cell_type": "markdown",
      "metadata": {
        "id": "nBVfroAAwSwg"
      },
      "source": [
        "**Question 11:** Create a function to return *hi **firstname** **surname**!*, where firstname and surname are two arguments of the function (as in question 9 but in this case we will use two arguments). Print the results."
      ]
    },
    {
      "cell_type": "code",
      "metadata": {
        "id": "dHQijVd1wS4f",
        "colab": {
          "base_uri": "https://localhost:8080/"
        },
        "outputId": "81b7fbfe-a7b2-4861-bc3a-d2df029764ba"
      },
      "source": [
        "# Provide your solution here\n",
        "\n",
        "def hiFunction(fname,sname): \n",
        "  return(\"Hi \" + fname + \" \"+ sname)\n",
        "\n",
        "print(hiFunction(\"Stelios\",\"Sotiriadis\")) \n"
      ],
      "execution_count": null,
      "outputs": [
        {
          "output_type": "stream",
          "text": [
            "Hi Stelios Sotiriadis\n"
          ],
          "name": "stdout"
        }
      ]
    },
    {
      "cell_type": "markdown",
      "metadata": {
        "id": "UE6Oq3YfxuTU"
      },
      "source": [
        "**Question 12:** Create a function to calculate and return the sum of 3 numbers. Print the results."
      ]
    },
    {
      "cell_type": "code",
      "metadata": {
        "id": "5F3N_iEFxubZ",
        "colab": {
          "base_uri": "https://localhost:8080/"
        },
        "outputId": "a2569a3c-7418-4a3e-bdad-8569119391ad"
      },
      "source": [
        "# Provide your solution here\n",
        "\n",
        "def sum_of_three(num1,num2,num3):\n",
        "    return (num1+num2+num3)\n",
        "\n",
        "print(sum_of_three(10,20,30))"
      ],
      "execution_count": null,
      "outputs": [
        {
          "output_type": "stream",
          "text": [
            "60\n"
          ],
          "name": "stdout"
        }
      ]
    },
    {
      "cell_type": "markdown",
      "metadata": {
        "id": "be8Fn25VMdin"
      },
      "source": [
        "**Question 13:** Create a function to find and return the average of 3 numbers. Test the function by priting the results, for example *print(my_average(10,20,30)).*"
      ]
    },
    {
      "cell_type": "code",
      "metadata": {
        "id": "d-ydq-SNM70F",
        "colab": {
          "base_uri": "https://localhost:8080/"
        },
        "outputId": "802fc502-de96-439f-9c2f-0dc978e2a735"
      },
      "source": [
        "# Provide your solution here\n",
        "\n",
        "def my_average(num1,num2,num3):\n",
        "    return (num1+num2+num3)/3\n",
        "\n",
        "print(my_average(10,20,30))\n",
        "\n",
        "# Alternative way is to use the sum_of_three\n",
        "\n",
        "def my_average(num1,num2,num3):\n",
        "    return sum_of_three(num1,num2,num3)/3\n",
        "\n",
        "print(my_average(10,20,30))"
      ],
      "execution_count": null,
      "outputs": [
        {
          "output_type": "stream",
          "text": [
            "20.0\n",
            "20.0\n"
          ],
          "name": "stdout"
        }
      ]
    },
    {
      "cell_type": "markdown",
      "metadata": {
        "id": "aWdNOyCyxsc2"
      },
      "source": [
        "**Question 14:** Create a function to print Hola for Spanish, Bonjour for French and Hello for all other selections. Test the function by using the *Spanish* language.\n",
        "\n",
        "<img src='https://drive.google.com/uc?id=1zHRUx7gL2e5LMUMQ1_zPt6V0MI-v5Iv5' width=\"50\" height=\"50\"> \n",
        "> Note, you will need to create a void function to print directly instead of returning the results.\n"
      ]
    },
    {
      "cell_type": "code",
      "metadata": {
        "id": "vXt9N4rexsmi",
        "colab": {
          "base_uri": "https://localhost:8080/"
        },
        "outputId": "fca37d9f-d878-4902-de69-c4a2b0f56763"
      },
      "source": [
        "# Provide your solution here\n",
        "\n",
        "def greet(lang):\n",
        "\n",
        "  if lang == \"Spanish\":\n",
        "    print(\"Hola\")\n",
        "  elif lang == \"French\" :\n",
        "    print(\"Bonjour\")\n",
        "  else:\n",
        "    print(\"Hello\")\n",
        "\n",
        "greet(\"Spanish\")"
      ],
      "execution_count": null,
      "outputs": [
        {
          "output_type": "stream",
          "text": [
            "Hola\n"
          ],
          "name": "stdout"
        }
      ]
    },
    {
      "cell_type": "markdown",
      "metadata": {
        "id": "21BsvaTdz6ps"
      },
      "source": [
        "**Question 15:** Create a function to **return** Hola for Spanish, Bonjour for French and Hello for all other selections. Test the function by printing the greeting message in *Spanish*.\n"
      ]
    },
    {
      "cell_type": "code",
      "metadata": {
        "id": "QuEOKi2zz6xw",
        "colab": {
          "base_uri": "https://localhost:8080/"
        },
        "outputId": "01ae356b-f1b9-45e2-fedc-33cdeb877eb7"
      },
      "source": [
        "def greet(lang):\n",
        "\n",
        "  if lang == \"Spanish\":\n",
        "    return(\"Hola\")\n",
        "  elif lang == \"French\" :\n",
        "    return(\"Bonjour\")\n",
        "  else:\n",
        "    return(\"Hello\")       \n",
        "     \n",
        "print(greet(\"Spanish\"))"
      ],
      "execution_count": null,
      "outputs": [
        {
          "output_type": "stream",
          "text": [
            "Hola\n"
          ],
          "name": "stdout"
        }
      ]
    },
    {
      "cell_type": "markdown",
      "metadata": {
        "id": "kBCsrNsH1Xu7"
      },
      "source": [
        "This conlcudes our exercises on how to use Python functions. The main idea of a functio is to organise reusable parts of code, so we can use it again and again in our programs."
      ]
    },
    {
      "cell_type": "markdown",
      "metadata": {
        "id": "8zzKxrlF1Nvp"
      },
      "source": [
        "\n",
        "\n",
        "---\n",
        "\n"
      ]
    },
    {
      "cell_type": "markdown",
      "metadata": {
        "id": "10664QWS1n3R"
      },
      "source": [
        "**Question 16:** Now, we will start wokring with text files in Python, to do that we will need to import the data source (any file such as txt, csv etc.) in the Google Colab. Then we can use it directly in our notebook.\n",
        "\n",
        "The first step is to import the appropriate library and trigger the upload process. The following code will prompt you to select a file for uploading. \n",
        "\n",
        "Before you run it, make sure you downloaded the appropriate files from Moodle.\n",
        "\n",
        "First, download the *sometext.txt* from Moodle and save it in your desktop or any folder you might like.\n",
        "\n",
        "Then run the following script, click on the *Choose Files* button and upload the *sometext.txt* file.\n",
        "\n",
        "You will need to do this each time you run this notetbook.\n",
        "\n",
        "The code will print *Saving sometext.txt to sometext.txt*"
      ]
    },
    {
      "cell_type": "code",
      "metadata": {
        "id": "ZYX1ttt10bbI",
        "colab": {
          "resources": {
            "http://localhost:8080/nbextensions/google.colab/files.js": {
              "data": "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",
              "ok": true,
              "headers": [
                [
                  "content-type",
                  "application/javascript"
                ]
              ],
              "status": 200,
              "status_text": ""
            }
          },
          "base_uri": "https://localhost:8080/",
          "height": 73
        },
        "outputId": "9b49c473-bdc1-4c72-ebe6-ef6021d1ef05"
      },
      "source": [
        "# Run the code and upload the file\n",
        "\n",
        "from google.colab import files \n",
        "uploaded = files.upload()"
      ],
      "execution_count": null,
      "outputs": [
        {
          "output_type": "display_data",
          "data": {
            "text/html": [
              "\n",
              "     <input type=\"file\" id=\"files-3109722d-acec-46cc-a12b-60682829c137\" name=\"files[]\" multiple disabled\n",
              "        style=\"border:none\" />\n",
              "     <output id=\"result-3109722d-acec-46cc-a12b-60682829c137\">\n",
              "      Upload widget is only available when the cell has been executed in the\n",
              "      current browser session. Please rerun this cell to enable.\n",
              "      </output>\n",
              "      <script src=\"/nbextensions/google.colab/files.js\"></script> "
            ],
            "text/plain": [
              "<IPython.core.display.HTML object>"
            ]
          },
          "metadata": {
            "tags": []
          }
        },
        {
          "output_type": "stream",
          "text": [
            "Saving sometext.txt to sometext.txt\n"
          ],
          "name": "stdout"
        }
      ]
    },
    {
      "cell_type": "markdown",
      "metadata": {
        "id": "abMvcZMmv595"
      },
      "source": [
        "<img src='https://drive.google.com/uc?id=1zHRUx7gL2e5LMUMQ1_zPt6V0MI-v5Iv5' width=\"50\" height=\"50\"> \n",
        ">  You do not need to remember this code, keep it as a reference."
      ]
    },
    {
      "cell_type": "markdown",
      "metadata": {
        "id": "YTM22iQ71CK9"
      },
      "source": [
        "**Question 17:** Well done! The file is now uploaded and stored in your Google drive. We can now use it to perform simple analytics.\n",
        "\n",
        "Study and run the following code."
      ]
    },
    {
      "cell_type": "code",
      "metadata": {
        "id": "bQqMurf51Cmz",
        "colab": {
          "base_uri": "https://localhost:8080/"
        },
        "outputId": "aa4c0906-8f33-4e08-f076-1080ac6211b7"
      },
      "source": [
        "# We will first open the file using the following command\n",
        "file = open(\"sometext.txt\", \"r\") # The \"r\" means that we want to read the file\n",
        "\n",
        "# Read the file into a variable\n",
        "mydata = file.read() # We store all the contents of the text file in mydata\n",
        "\n",
        "# Let us print the contents of the text file\n",
        "print(mydata)"
      ],
      "execution_count": null,
      "outputs": [
        {
          "output_type": "stream",
          "text": [
            "Two households, both alike in dignity,\n",
            "In fair Verona, where we lay our scene,\n",
            "From ancient grudge break to new mutiny,\n",
            "Where civil blood makes civil hands unclean\n"
          ],
          "name": "stdout"
        }
      ]
    },
    {
      "cell_type": "markdown",
      "metadata": {
        "id": "qtzWBR_N4aOy"
      },
      "source": [
        "**Question 18:** As you might noticed, the text includes the first 4 rows of the Romeo and Juliet Act 1, Prologue. Let us transform the text into a list, then we can do all kind of analytics e.g. count how many times a word occurs in the dataset.\n",
        "\n",
        "Before approaching this problem, make sure you review the Python *split* method. The *split* splits a string into a list where each word is a list item. For more information visit the link: https://www.w3schools.com/python/ref_string_split.asp"
      ]
    },
    {
      "cell_type": "code",
      "metadata": {
        "id": "7JEmHY7I4aXc",
        "colab": {
          "base_uri": "https://localhost:8080/"
        },
        "outputId": "38ad2d46-b264-483f-bb45-040b9076c669"
      },
      "source": [
        "# Provide your solution here\n",
        "\n",
        "data = mydata.split()\n",
        "print(data)"
      ],
      "execution_count": null,
      "outputs": [
        {
          "output_type": "stream",
          "text": [
            "['Two', 'households,', 'both', 'alike', 'in', 'dignity,', 'In', 'fair', 'Verona,', 'where', 'we', 'lay', 'our', 'scene,', 'From', 'ancient', 'grudge', 'break', 'to', 'new', 'mutiny,', 'Where', 'civil', 'blood', 'makes', 'civil', 'hands', 'unclean']\n"
          ],
          "name": "stdout"
        }
      ]
    },
    {
      "cell_type": "markdown",
      "metadata": {
        "id": "-fULSK__7nqT"
      },
      "source": [
        "**Question 19:** Create a program to count how many words are in the dataset. Use the data from the uploaded file (from Question 18). Print the results in the form *The file has: 28 words*."
      ]
    },
    {
      "cell_type": "code",
      "metadata": {
        "id": "-7nsZIPr7nxk",
        "colab": {
          "base_uri": "https://localhost:8080/"
        },
        "outputId": "1602e8ac-573a-4f7b-f054-99f32359d94c"
      },
      "source": [
        "# Provide your solution here\n",
        "\n",
        "count=0\n",
        "for word in data:\n",
        "    count+=1\n",
        "print(\"The file has: \"+str(count)+\" words\")"
      ],
      "execution_count": null,
      "outputs": [
        {
          "output_type": "stream",
          "text": [
            "The file has: 28 words\n"
          ],
          "name": "stdout"
        }
      ]
    },
    {
      "cell_type": "markdown",
      "metadata": {
        "id": "ee0Q-Fwz6l4s"
      },
      "source": [
        "**Question 20:** Create a program to count how many times the word *civil* appears in our dataset. Use the data from the uploaded file (from Question 18). Print the results in the form *Civil appears: 2 times*."
      ]
    },
    {
      "cell_type": "markdown",
      "metadata": {
        "id": "OmLIc4JKwIZ0"
      },
      "source": [
        "<img src='https://drive.google.com/uc?id=1TILfsLPhdXLqyGIjILDLcNtvk-wACxyX' width=\"50\" height=\"50\"> \n",
        "> This is a challenging task, so take your time to complete it."
      ]
    },
    {
      "cell_type": "code",
      "metadata": {
        "id": "t_cHTEye6mAt",
        "colab": {
          "base_uri": "https://localhost:8080/"
        },
        "outputId": "19db7330-304d-4411-9d9b-ad2245d68362"
      },
      "source": [
        "# Provide your solution here\n",
        "\n",
        "count=0\n",
        "for word in data:\n",
        "  if word == \"civil\":\n",
        "    count+=1\n",
        "print(\"Civil appears: \"+str(count)+\" times\")"
      ],
      "execution_count": null,
      "outputs": [
        {
          "output_type": "stream",
          "text": [
            "Civil appears: 2 times\n"
          ],
          "name": "stdout"
        }
      ]
    }
  ]
}